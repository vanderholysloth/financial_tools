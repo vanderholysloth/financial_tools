{
 "cells": [
  {
   "cell_type": "code",
   "execution_count": 1,
   "id": "89c96fd4-f0aa-4f89-b786-1451e881b56d",
   "metadata": {},
   "outputs": [],
   "source": [
    "from fredapi import Fred\n",
    "import os\n",
    "import requests"
   ]
  },
  {
   "cell_type": "code",
   "execution_count": 2,
   "id": "8ec1eff1-d7fc-4ac7-bdf6-c0a71e67f1ae",
   "metadata": {},
   "outputs": [],
   "source": [
    "def functions_callable():\n",
    "    callable= \"\"\"\n",
    "    risk_free_rate(v1) = This gets you the current int rates of t-bills of your selecting.\\n For a list of t-bills you can call using the variable (v1) use value_check()\n",
    "    risk_free_rate_10() = returns the 10-year T Bill rate\n",
    "    \"\"\"\n",
    "    print(callable)"
   ]
  },
  {
   "cell_type": "code",
   "execution_count": 3,
   "id": "4d17b3e9-94c8-43e8-bd07-a6b3850b0c2f",
   "metadata": {},
   "outputs": [],
   "source": [
    "def value_check():\n",
    "    values=\"\"\"\n",
    "    Current T-bill Rate Key (Enter as float or Int format)\n",
    "\n",
    "    1 Month T bill:  .1  \n",
    "    3 Month T bill:  .25\n",
    "    2-Year T Bill:   2\n",
    "    5-Year T Bill:   5 \n",
    "    7-Year T Bill:   7 \n",
    "    10-Year T Bill: 10 \n",
    "    30-Year T Bill: 30\n",
    "\n",
    "\n",
    "    Example:  risk_free_rate(.25)\n",
    "              \"\"\"\n",
    "    print(values)"
   ]
  },
  {
   "cell_type": "code",
   "execution_count": 51,
   "id": "1229d1f2-966a-4900-8038-ec4fd523c0a7",
   "metadata": {},
   "outputs": [],
   "source": [
    "def _series_id_check(var):\n",
    "    \"\"\"\n",
    "    This allows you to pick a specified current treasury yield \n",
    "    \"\"\"\n",
    "    \n",
    "    if var not in ['1m','3m',2, '2y', 5, '5y', 7, '7y',10, '10y', 30,'30y']:\n",
    "        return 'GS10'  ### Default to GS10 if var is not in the specified list\n",
    "    ### 1 month tbill\n",
    "    \n",
    "    if var == '1m':\n",
    "        return 'GS1M'  ### 1 month Treasury bill\n",
    "    \n",
    "    elif var == '3m':\n",
    "        return 'GS3M'  ### 3 month Treasury bill\n",
    "    \n",
    "    elif var == 2 or var == '2y':\n",
    "        return 'GS2'  ### 2 year Treasury\n",
    "    \n",
    "    elif var == 5 or var == '5y':\n",
    "        return 'GS5'  ### 5 year Treasury\n",
    "    \n",
    "    elif var == 7 or var == '7y':\n",
    "        return 'GS7'  ### 7 year Treasury\n",
    "    \n",
    "    elif var == 10 or var == '10y':\n",
    "        return 'GS10'  ### 10 year Treasury\n",
    "    \n",
    "    elif var == 30 or var == '30y':\n",
    "        return 'GS30'  ### 30 year Treasury\n",
    "    \n",
    "    else:\n",
    "        return 'GS10'  ### Default to GS10 if none of the above conditions match\n"
   ]
  },
  {
   "cell_type": "code",
   "execution_count": 56,
   "id": "469b89d1-dd66-4911-88c4-77ed0ebf3258",
   "metadata": {},
   "outputs": [],
   "source": [
    "def risk_free_rate(series_id=None):\n",
    "    \"\"\"\n",
    "    Get the risk-free interest rate corresponding to the specified Treasury series ID.\n",
    "    \n",
    "    args: Series_id (str or float): The T series. See the data in the value_check() function.\n",
    "    \"\"\"\n",
    "    \n",
    "    # Checks to make sure the values are correct and defaults in case an incorrect one is entered.\n",
    "    if series_id is None:\n",
    "        print('Defaulting to 10-year T-bill rates.')\n",
    "        series_id = 'GS10'\n",
    "    if series_id not in ['1m','3m',2, '2y', 5, '5y', 7, '7y',10, '10y', 30,'30y']:\n",
    "        print('series_id value is incorrect. Defaulting to 10-year T-Bill. \\n To see a list of callable values, run value_check()')\n",
    "        series_id = 'GS10'\n",
    "    else:\n",
    "        series_id = _series_id_check(series_id)\n",
    "    \n",
    "    # Get the API key from environment variables\n",
    "    api_key = os.environ.get('fredapi')\n",
    "\n",
    "    # Initialize the Fred API client\n",
    "    fred = Fred(api_key=api_key)\n",
    "\n",
    "    # Specify the series ID you want to retrieve\n",
    "    print(f\"Returning the {series_id} rate.\")\n",
    "    try:\n",
    "        # Retrieve the data for the series\n",
    "        data = fred.get_series(series_id)\n",
    "    except Exception as e:\n",
    "        print(f\"An error occurred: {str(e)}\")\n",
    "        return None\n",
    "\n",
    "    # Get the latest interest rate and convert it to a decimal\n",
    "    rate = data.iloc[-1] / 100\n",
    "\n",
    "    return rate"
   ]
  },
  {
   "cell_type": "code",
   "execution_count": 55,
   "id": "36300bc1-32c1-443b-8200-84a679dd62f5",
   "metadata": {},
   "outputs": [
    {
     "name": "stdout",
     "output_type": "stream",
     "text": [
      "Using the GS1M rate.\n"
     ]
    },
    {
     "data": {
      "text/plain": [
       "0.0557"
      ]
     },
     "execution_count": 55,
     "metadata": {},
     "output_type": "execute_result"
    }
   ],
   "source": [
    "risk_free_rate('1m')"
   ]
  },
  {
   "cell_type": "code",
   "execution_count": 37,
   "id": "7079ffce-b596-4e1e-8ae5-bf3250650fc5",
   "metadata": {},
   "outputs": [],
   "source": [
    "def risk_free_rate_10():\n",
    "    # Get the API key from environment variables\n",
    "    api_key = os.environ.get('fredapi')\n",
    "\n",
    "    # Initialize the Fred API client\n",
    "    fred = Fred(api_key=api_key)\n",
    "\n",
    "    # Specify the series ID you want to retrieve\n",
    "    series_id = 'GS10'\n",
    "\n",
    "    try:\n",
    "        # Retrieve the data for the series\n",
    "        data = fred.get_series(series_id)\n",
    "    except Exception as e:\n",
    "        print(f\"An error occurred: {str(e)}\")\n",
    "        return None\n",
    "\n",
    "    # Get the latest interest rate and convert it to a decimal\n",
    "    rate = data.iloc[-1] / 100\n",
    "\n",
    "    return rate"
   ]
  },
  {
   "cell_type": "code",
   "execution_count": 20,
   "id": "f255f09d-ed29-4e88-819c-79a35dac800e",
   "metadata": {},
   "outputs": [
    {
     "data": {
      "text/plain": [
       "0.048"
      ]
     },
     "execution_count": 20,
     "metadata": {},
     "output_type": "execute_result"
    }
   ],
   "source": [
    "risk_free_rate_10()"
   ]
  },
  {
   "cell_type": "code",
   "execution_count": null,
   "id": "d2c8b031-3e21-478d-b6ce-d5810d4cd0ea",
   "metadata": {},
   "outputs": [],
   "source": []
  }
 ],
 "metadata": {
  "kernelspec": {
   "display_name": "Python 3 (ipykernel)",
   "language": "python",
   "name": "python3"
  },
  "language_info": {
   "codemirror_mode": {
    "name": "ipython",
    "version": 3
   },
   "file_extension": ".py",
   "mimetype": "text/x-python",
   "name": "python",
   "nbconvert_exporter": "python",
   "pygments_lexer": "ipython3",
   "version": "3.11.4"
  }
 },
 "nbformat": 4,
 "nbformat_minor": 5
}
